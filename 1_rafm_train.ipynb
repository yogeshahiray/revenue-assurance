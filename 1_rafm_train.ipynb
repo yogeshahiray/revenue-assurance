{
 "cells": [
  {
   "cell_type": "markdown",
   "metadata": {
    "tags": []
   },
   "source": [
    "# Experiment"
   ]
  },
  {
   "cell_type": "markdown",
   "metadata": {
    "tags": []
   },
   "source": [
    "## Install Python dependencies"
   ]
  },
  {
   "cell_type": "code",
   "execution_count": 1,
   "metadata": {
    "ExecuteTime": {
     "end_time": "2024-08-19T15:45:05.830869Z",
     "start_time": "2024-08-19T15:45:04.819700Z"
    },
    "is_executing": true,
    "scrolled": true,
    "tags": []
   },
   "outputs": [
    {
     "name": "stdout",
     "output_type": "stream",
     "text": [
      "Requirement already satisfied: onnx in /opt/app-root/lib/python3.9/site-packages (1.16.2)\n",
      "Requirement already satisfied: onnxruntime in /opt/app-root/lib/python3.9/site-packages (1.19.2)\n",
      "Requirement already satisfied: tf2onnx in /opt/app-root/lib/python3.9/site-packages (1.16.1)\n",
      "Requirement already satisfied: numpy>=1.20 in /opt/app-root/lib/python3.9/site-packages (from onnx) (1.26.4)\n",
      "Requirement already satisfied: protobuf>=3.20.2 in /opt/app-root/lib/python3.9/site-packages (from onnx) (3.20.3)\n",
      "Requirement already satisfied: packaging in /opt/app-root/lib/python3.9/site-packages (from onnxruntime) (24.1)\n",
      "Requirement already satisfied: coloredlogs in /opt/app-root/lib/python3.9/site-packages (from onnxruntime) (15.0.1)\n",
      "Requirement already satisfied: flatbuffers in /opt/app-root/lib/python3.9/site-packages (from onnxruntime) (24.3.25)\n",
      "Requirement already satisfied: sympy in /opt/app-root/lib/python3.9/site-packages (from onnxruntime) (1.13.3)\n",
      "Requirement already satisfied: six in /opt/app-root/lib/python3.9/site-packages (from tf2onnx) (1.16.0)\n",
      "Requirement already satisfied: requests in /opt/app-root/lib/python3.9/site-packages (from tf2onnx) (2.32.3)\n",
      "Requirement already satisfied: humanfriendly>=9.1 in /opt/app-root/lib/python3.9/site-packages (from coloredlogs->onnxruntime) (10.0)\n",
      "Requirement already satisfied: urllib3<3,>=1.21.1 in /opt/app-root/lib/python3.9/site-packages (from requests->tf2onnx) (1.26.19)\n",
      "Requirement already satisfied: certifi>=2017.4.17 in /opt/app-root/lib/python3.9/site-packages (from requests->tf2onnx) (2024.7.4)\n",
      "Requirement already satisfied: idna<4,>=2.5 in /opt/app-root/lib/python3.9/site-packages (from requests->tf2onnx) (3.8)\n",
      "Requirement already satisfied: charset-normalizer<4,>=2 in /opt/app-root/lib/python3.9/site-packages (from requests->tf2onnx) (3.3.2)\n",
      "Requirement already satisfied: mpmath<1.4,>=1.1.0 in /opt/app-root/lib/python3.9/site-packages (from sympy->onnxruntime) (1.3.0)\n",
      "\n",
      "\u001b[1m[\u001b[0m\u001b[34;49mnotice\u001b[0m\u001b[1;39;49m]\u001b[0m\u001b[39;49m A new release of pip available: \u001b[0m\u001b[31;49m22.2.2\u001b[0m\u001b[39;49m -> \u001b[0m\u001b[32;49m24.3.1\u001b[0m\n",
      "\u001b[1m[\u001b[0m\u001b[34;49mnotice\u001b[0m\u001b[1;39;49m]\u001b[0m\u001b[39;49m To update, run: \u001b[0m\u001b[32;49mpip install --upgrade pip\u001b[0m\n"
     ]
    }
   ],
   "source": [
    "!pip install onnx onnxruntime tf2onnx"
   ]
  },
  {
   "cell_type": "markdown",
   "metadata": {},
   "source": [
    "Import the dependencies for the model training code:"
   ]
  },
  {
   "cell_type": "code",
   "execution_count": 2,
   "metadata": {
    "ExecuteTime": {
     "end_time": "2024-08-19T15:45:08.983925Z",
     "start_time": "2024-08-19T15:45:05.835311Z"
    },
    "tags": []
   },
   "outputs": [
    {
     "name": "stderr",
     "output_type": "stream",
     "text": [
      "2024-11-22 05:38:04.696402: I tensorflow/core/util/port.cc:113] oneDNN custom operations are on. You may see slightly different numerical results due to floating-point round-off errors from different computation orders. To turn them off, set the environment variable `TF_ENABLE_ONEDNN_OPTS=0`.\n",
      "2024-11-22 05:38:04.731556: E external/local_xla/xla/stream_executor/cuda/cuda_dnn.cc:9261] Unable to register cuDNN factory: Attempting to register factory for plugin cuDNN when one has already been registered\n",
      "2024-11-22 05:38:04.731586: E external/local_xla/xla/stream_executor/cuda/cuda_fft.cc:607] Unable to register cuFFT factory: Attempting to register factory for plugin cuFFT when one has already been registered\n",
      "2024-11-22 05:38:04.732468: E external/local_xla/xla/stream_executor/cuda/cuda_blas.cc:1515] Unable to register cuBLAS factory: Attempting to register factory for plugin cuBLAS when one has already been registered\n",
      "2024-11-22 05:38:04.737964: I tensorflow/core/platform/cpu_feature_guard.cc:182] This TensorFlow binary is optimized to use available CPU instructions in performance-critical operations.\n",
      "To enable the following instructions: AVX2 AVX512F AVX512_VNNI FMA, in other operations, rebuild TensorFlow with the appropriate compiler flags.\n",
      "2024-11-22 05:38:05.410296: W tensorflow/compiler/tf2tensorrt/utils/py_utils.cc:38] TF-TRT Warning: Could not find TensorRT\n"
     ]
    }
   ],
   "source": [
    "import numpy as np\n",
    "import pandas as pd\n",
    "import datetime\n",
    "from keras.models import Sequential\n",
    "from keras.layers import Dense, Dropout, BatchNormalization, Activation\n",
    "from sklearn.model_selection import train_test_split\n",
    "from sklearn.preprocessing import StandardScaler\n",
    "from sklearn.utils import class_weight\n",
    "import tf2onnx\n",
    "import onnx\n",
    "import pickle\n",
    "from pathlib import Path"
   ]
  },
  {
   "cell_type": "markdown",
   "metadata": {},
   "source": [
    "The output might show TensorFlow messages, such as a \"Could not find TensorRT\" warning. You can ignore these messages.\n"
   ]
  },
  {
   "cell_type": "markdown",
   "metadata": {},
   "source": [
    "## Load the CSV data\n",
    "\n",
    "The CSV data that you use to train the model contains the following fields:\n",
    "\n",
    "* **distancefromhome** - The distance from home where the transaction happened.\n",
    "* **distancefromlast_transaction** - The distance from the last transaction that happened.\n",
    "* **ratiotomedianpurchaseprice** - The ratio of purchased price compared to median purchase price.\n",
    "* **repeat_retailer** - If it's from a retailer that already has been purchased from before.\n",
    "* **used_chip** - If the credit card chip was used.\n",
    "* **usedpinnumber** - If the PIN number was used.\n",
    "* **online_order** - If it was an online order.\n",
    "* **fraud** - If the transaction is fraudulent."
   ]
  },
  {
   "cell_type": "code",
   "execution_count": 3,
   "metadata": {
    "ExecuteTime": {
     "end_time": "2024-08-19T15:45:09.394745Z",
     "start_time": "2024-08-19T15:45:09.051361Z"
    },
    "tags": []
   },
   "outputs": [
    {
     "name": "stdout",
     "output_type": "stream",
     "text": [
      "<bound method DataFrame.info of         Call_Duration   Data_Usage  Sms_Count  Roaming_Indicator  \\\n",
      "0            4.692681   452.126271          1                  0   \n",
      "1           30.101214   226.842467          4                  0   \n",
      "2           13.167457     2.695060          3                  0   \n",
      "3            9.129426   411.727859          4                  0   \n",
      "4            1.696249  1134.432099          4                  0   \n",
      "...               ...          ...        ...                ...   \n",
      "999995      21.899784   308.629901          2                  0   \n",
      "999996       5.750420  1177.784469          4                  0   \n",
      "999997       5.414085   574.601579          4                  0   \n",
      "999998       5.597905   206.742899          3                  0   \n",
      "999999      26.514130   588.205420          2                  0   \n",
      "\n",
      "        MobileWallet_Use Plan_Type       Cost  Cellular_Location_Distance  \\\n",
      "0                      0  postpaid  56.991170                    3.629675   \n",
      "1                      0  postpaid   9.718698                    3.654629   \n",
      "2                      0  postpaid  10.770598                    2.506765   \n",
      "3                      0  postpaid   5.885960                    0.098861   \n",
      "4                      0   prepaid  24.716931                    4.204570   \n",
      "...                  ...       ...        ...                         ...   \n",
      "999995                 1  postpaid  67.345133                    2.967644   \n",
      "999996                 0  postpaid  97.489780                   15.085796   \n",
      "999997                 1  postpaid  39.721111                    3.708963   \n",
      "999998                 1   prepaid  14.954353                    6.474232   \n",
      "999999                 0   prepaid   5.858242                    1.774442   \n",
      "\n",
      "        Personal_Pin_Used  Avg_Call_Duration  Avg_Data_Usage   Avg_Cost  Fraud  \n",
      "0                       0           1.460109      336.312984  71.603238      0  \n",
      "1                       0          30.817472      150.969590  -3.794503      0  \n",
      "2                       0          13.554912       79.394244   4.581320      0  \n",
      "3                       0           7.990501      317.191998  24.955166      0  \n",
      "4                       0           0.159457     1073.585260  21.758660      0  \n",
      "...                   ...                ...             ...        ...    ...  \n",
      "999995                  1          22.495954      360.170197  70.501717      0  \n",
      "999996                  0           5.769138     1397.378637  93.818808      0  \n",
      "999997                  0           5.249319      676.437788  50.809782      0  \n",
      "999998                  0           5.959576       71.317103  16.943952      0  \n",
      "999999                  0          27.737441      540.613840  -1.762912      0  \n",
      "\n",
      "[1000000 rows x 13 columns]>\n",
      "<bound method NDFrame.head of         Call_Duration   Data_Usage  Sms_Count  Roaming_Indicator  \\\n",
      "0            4.692681   452.126271          1                  0   \n",
      "1           30.101214   226.842467          4                  0   \n",
      "2           13.167457     2.695060          3                  0   \n",
      "3            9.129426   411.727859          4                  0   \n",
      "4            1.696249  1134.432099          4                  0   \n",
      "...               ...          ...        ...                ...   \n",
      "999995      21.899784   308.629901          2                  0   \n",
      "999996       5.750420  1177.784469          4                  0   \n",
      "999997       5.414085   574.601579          4                  0   \n",
      "999998       5.597905   206.742899          3                  0   \n",
      "999999      26.514130   588.205420          2                  0   \n",
      "\n",
      "        MobileWallet_Use Plan_Type       Cost  Cellular_Location_Distance  \\\n",
      "0                      0  postpaid  56.991170                    3.629675   \n",
      "1                      0  postpaid   9.718698                    3.654629   \n",
      "2                      0  postpaid  10.770598                    2.506765   \n",
      "3                      0  postpaid   5.885960                    0.098861   \n",
      "4                      0   prepaid  24.716931                    4.204570   \n",
      "...                  ...       ...        ...                         ...   \n",
      "999995                 1  postpaid  67.345133                    2.967644   \n",
      "999996                 0  postpaid  97.489780                   15.085796   \n",
      "999997                 1  postpaid  39.721111                    3.708963   \n",
      "999998                 1   prepaid  14.954353                    6.474232   \n",
      "999999                 0   prepaid   5.858242                    1.774442   \n",
      "\n",
      "        Personal_Pin_Used  Avg_Call_Duration  Avg_Data_Usage   Avg_Cost  Fraud  \n",
      "0                       0           1.460109      336.312984  71.603238      0  \n",
      "1                       0          30.817472      150.969590  -3.794503      0  \n",
      "2                       0          13.554912       79.394244   4.581320      0  \n",
      "3                       0           7.990501      317.191998  24.955166      0  \n",
      "4                       0           0.159457     1073.585260  21.758660      0  \n",
      "...                   ...                ...             ...        ...    ...  \n",
      "999995                  1          22.495954      360.170197  70.501717      0  \n",
      "999996                  0           5.769138     1397.378637  93.818808      0  \n",
      "999997                  0           5.249319      676.437788  50.809782      0  \n",
      "999998                  0           5.959576       71.317103  16.943952      0  \n",
      "999999                  0          27.737441      540.613840  -1.762912      0  \n",
      "\n",
      "[1000000 rows x 13 columns]>\n"
     ]
    }
   ],
   "source": [
    "# Set the input (X) and output (Y) data. \n",
    "# The only output data is whether it's fraudulent. All other fields are inputs to the model.\n",
    "\n",
    "feature_indexes = [\n",
    "    0,  # Call_Duration\n",
    "    1,  # Data_Usage\n",
    "    2,  # SMS_Count\n",
    "    3,  # Roaming_Indicator\n",
    "    4,  # MobileWallet_Use\n",
    "    6,  # Cost\n",
    "    7,  # Cellular_Location_Distance\n",
    "    8,  # Personal_Pin_Used \n",
    "    9,  # Avg_Call_Duration\n",
    "    10, # Avg_Data_Usage\n",
    "    11  # Avg_Cost\n",
    "]\n",
    "\n",
    "label_indexes = [\n",
    "    12  # fraud\n",
    "]\n",
    "\n",
    "df = pd.read_csv('data/telecom_revass_data.csv')\n",
    "X = df.iloc[:, feature_indexes].values\n",
    "y = df.iloc[:, label_indexes].values\n",
    "\n",
    "print(df.info)\n",
    "\n",
    "print(df.head)\n",
    "\n",
    "# df = pd.read_csv('data/validate.csv')\n",
    "# X_val = df.iloc[:, feature_indexes].values\n",
    "# y_val = df.iloc[:, label_indexes].values\n",
    "\n",
    "# df = pd.read_csv('data/test.csv')\n",
    "# X_test = df.iloc[:, feature_indexes].values\n",
    "# y_test = df.iloc[:, label_indexes].values\n",
    "\n",
    "\n",
    "# Scale the data to remove mean and have unit variance. The data will be between -1 and 1, which makes it a lot easier for the model to learn than random (and potentially large) values.\n",
    "# It is important to only fit the scaler to the training data, otherwise you are leaking information about the global distribution of variables (which is influenced by the test set) into the training set.\n",
    "\n",
    "# Split the data into training and testing sets\n",
    "X_train, X_test, y_train, y_test = train_test_split(X, y, test_size=0.3, random_state=42, stratify=y)\n",
    "\n",
    "scaler = StandardScaler()\n",
    "\n",
    "X_train = scaler.fit_transform(X_train)\n",
    "# X_val = scaler.transform(X_val)\n",
    "X_test = scaler.transform(X_test)\n",
    "\n",
    "Path(\"artifact\").mkdir(parents=True, exist_ok=True)\n",
    "with open(\"artifact/test_data.pkl\", \"wb\") as handle:\n",
    "    pickle.dump((X_test, y_test), handle)\n",
    "with open(\"artifact/scaler.pkl\", \"wb\") as handle:\n",
    "    pickle.dump(scaler, handle)\n",
    "\n",
    "# Since the dataset is unbalanced (it has many more non-fraud transactions than fraudulent ones), set a class weight to weight the few fraudulent transactions higher than the many non-fraud transactions.\n",
    "class_weights = class_weight.compute_class_weight('balanced', classes=np.unique(y_train), y=y_train.ravel())\n",
    "class_weights = {i : class_weights[i] for i in range(len(class_weights))}"
   ]
  },
  {
   "cell_type": "markdown",
   "metadata": {},
   "source": [
    "## Build the model\n",
    "\n",
    "The model is a simple, fully-connected, deep neural network, containing three hidden layers and one output layer."
   ]
  },
  {
   "cell_type": "code",
   "execution_count": 4,
   "metadata": {
    "ExecuteTime": {
     "end_time": "2024-08-19T15:45:09.489856Z",
     "start_time": "2024-08-19T15:45:09.419813Z"
    },
    "tags": []
   },
   "outputs": [
    {
     "name": "stdout",
     "output_type": "stream",
     "text": [
      "Model: \"sequential\"\n",
      "_________________________________________________________________\n",
      " Layer (type)                Output Shape              Param #   \n",
      "=================================================================\n",
      " dense (Dense)               (None, 32)                384       \n",
      "                                                                 \n",
      " dropout (Dropout)           (None, 32)                0         \n",
      "                                                                 \n",
      " dense_1 (Dense)             (None, 32)                1056      \n",
      "                                                                 \n",
      " batch_normalization (Batch  (None, 32)                128       \n",
      " Normalization)                                                  \n",
      "                                                                 \n",
      " activation (Activation)     (None, 32)                0         \n",
      "                                                                 \n",
      " dropout_1 (Dropout)         (None, 32)                0         \n",
      "                                                                 \n",
      " dense_2 (Dense)             (None, 32)                1056      \n",
      "                                                                 \n",
      " batch_normalization_1 (Bat  (None, 32)                128       \n",
      " chNormalization)                                                \n",
      "                                                                 \n",
      " activation_1 (Activation)   (None, 32)                0         \n",
      "                                                                 \n",
      " dropout_2 (Dropout)         (None, 32)                0         \n",
      "                                                                 \n",
      " dense_3 (Dense)             (None, 1)                 33        \n",
      "                                                                 \n",
      "=================================================================\n",
      "Total params: 2785 (10.88 KB)\n",
      "Trainable params: 2657 (10.38 KB)\n",
      "Non-trainable params: 128 (512.00 Byte)\n",
      "_________________________________________________________________\n"
     ]
    }
   ],
   "source": [
    "model = Sequential()\n",
    "model.add(Dense(32, activation='relu', input_dim=len(feature_indexes)))\n",
    "model.add(Dropout(0.2))\n",
    "model.add(Dense(32))\n",
    "model.add(BatchNormalization())\n",
    "model.add(Activation('relu'))\n",
    "model.add(Dropout(0.2))\n",
    "model.add(Dense(32))\n",
    "model.add(BatchNormalization())\n",
    "model.add(Activation('relu'))\n",
    "model.add(Dropout(0.2))\n",
    "model.add(Dense(1, activation='sigmoid'))\n",
    "\n",
    "model.compile(\n",
    "    optimizer='adam',\n",
    "    loss='binary_crossentropy',\n",
    "    metrics=['accuracy']\n",
    ")\n",
    "\n",
    "model.summary()"
   ]
  },
  {
   "cell_type": "markdown",
   "metadata": {},
   "source": [
    "## Train the model\n",
    "\n",
    "Training a model is often the most time-consuming part of the machine learning process.  Large models can take multiple GPUs for days.  Expect the training on CPU for this very simple model to take a minute or more."
   ]
  },
  {
   "cell_type": "code",
   "execution_count": 5,
   "metadata": {
    "ExecuteTime": {
     "end_time": "2024-08-19T15:45:29.664796Z",
     "start_time": "2024-08-19T15:45:09.496686Z"
    },
    "tags": []
   },
   "outputs": [
    {
     "name": "stdout",
     "output_type": "stream",
     "text": [
      "Epoch 1/2\n",
      "21875/21875 [==============================] - 42s 2ms/step - loss: 0.0986 - accuracy: 0.9559\n",
      "Epoch 2/2\n",
      "21875/21875 [==============================] - 41s 2ms/step - loss: 0.0530 - accuracy: 0.9770\n",
      "Training of model is complete. Took 83.96844720840454 seconds\n"
     ]
    }
   ],
   "source": [
    "# Train the model and get performance\n",
    "import os\n",
    "import time\n",
    "\n",
    "start = time.time()\n",
    "epochs = 2\n",
    "history = model.fit(\n",
    "    X_train,\n",
    "    y_train,\n",
    "    epochs=epochs,\n",
    "    # validation_data=(X_val, y_val),\n",
    "    verbose=True,\n",
    "    class_weight=class_weights\n",
    ")\n",
    "end = time.time()\n",
    "print(f\"Training of model is complete. Took {end-start} seconds\")"
   ]
  },
  {
   "cell_type": "markdown",
   "metadata": {},
   "source": [
    "## Save the model file"
   ]
  },
  {
   "cell_type": "code",
   "execution_count": 6,
   "metadata": {
    "ExecuteTime": {
     "end_time": "2024-08-19T15:45:29.845680Z",
     "start_time": "2024-08-19T15:45:29.674230Z"
    },
    "tags": []
   },
   "outputs": [
    {
     "name": "stderr",
     "output_type": "stream",
     "text": [
      "2024-11-22 05:40:27.176768: I tensorflow/core/grappler/devices.cc:66] Number of eligible GPUs (core count >= 8, compute capability >= 0.0): 0\n",
      "2024-11-22 05:40:27.176907: I tensorflow/core/grappler/clusters/single_machine.cc:361] Starting new session\n",
      "2024-11-22 05:40:27.284856: I tensorflow/core/grappler/devices.cc:66] Number of eligible GPUs (core count >= 8, compute capability >= 0.0): 0\n",
      "2024-11-22 05:40:27.284973: I tensorflow/core/grappler/clusters/single_machine.cc:361] Starting new session\n"
     ]
    }
   ],
   "source": [
    "import tensorflow as tf\n",
    "\n",
    "# Normally we use tf2.onnx.convert.from_keras.\n",
    "# workaround for tf2onnx bug https://github.com/onnx/tensorflow-onnx/issues/2348\n",
    "\n",
    "# Wrap the model in a `tf.function`\n",
    "@tf.function(input_signature=[tf.TensorSpec([None, X_train.shape[1]], tf.float32, name='dense_input')])\n",
    "def model_fn(x):\n",
    "    return model(x)\n",
    "\n",
    "# Convert the Keras model to ONNX\n",
    "model_proto, _ = tf2onnx.convert.from_function(\n",
    "    model_fn,\n",
    "    input_signature=[tf.TensorSpec([None, X_train.shape[1]], tf.float32, name='dense_input')]\n",
    ")\n",
    "\n",
    "# Save the model as ONNX for easy use of ModelMesh\n",
    "os.makedirs(\"models/fraud/1\", exist_ok=True)\n",
    "onnx.save(model_proto, \"models/fraud/1/rafmmodel.onnx\")"
   ]
  },
  {
   "cell_type": "markdown",
   "metadata": {},
   "source": [
    "The output might include TensorFlow messages related to GPUs. You can ignore these messages."
   ]
  },
  {
   "cell_type": "markdown",
   "metadata": {},
   "source": [
    "## Confirm the model file was created successfully\n",
    "\n",
    "The output should include the model name, size, and date. "
   ]
  },
  {
   "cell_type": "code",
   "execution_count": 7,
   "metadata": {
    "ExecuteTime": {
     "end_time": "2024-08-19T15:45:30.012353Z",
     "start_time": "2024-08-19T15:45:29.856416Z"
    },
    "tags": []
   },
   "outputs": [
    {
     "name": "stdout",
     "output_type": "stream",
     "text": [
      "./models/:\n",
      "total 4.0K\n",
      "drwxr-sr-x.  3 1001000000 1001000000   19 Nov 18 16:39 .\n",
      "drwxr-sr-x. 14 1001000000 1001000000 4.0K Nov 22 05:39 ..\n",
      "drwxr-sr-x.  3 1001000000 1001000000   15 Nov 18 16:39 fraud\n",
      "\n",
      "./models/fraud:\n",
      "total 0\n",
      "drwxr-sr-x. 3 1001000000 1001000000 15 Nov 18 16:39 .\n",
      "drwxr-sr-x. 3 1001000000 1001000000 19 Nov 18 16:39 ..\n",
      "drwxr-sr-x. 2 1001000000 1001000000 67 Nov 22 05:08 1\n",
      "\n",
      "./models/fraud/1:\n",
      "total 32K\n",
      "drwxr-sr-x. 2 1001000000 1001000000  67 Nov 22 05:08 .\n",
      "drwxr-sr-x. 3 1001000000 1001000000  15 Nov 18 16:39 ..\n",
      "-rw-r--r--. 1 1001000000 1001000000 13K Nov 18 16:39 model.onnx\n",
      "-rw-r--r--. 1 1001000000 1001000000 14K Nov 22 05:40 rafmmodel.onnx\n",
      "-rw-r--r--. 1 1001000000 1001000000   0 Nov 22 05:10 rafmmodel.pkl\n"
     ]
    }
   ],
   "source": [
    "! ls -alRh ./models/"
   ]
  },
  {
   "cell_type": "markdown",
   "metadata": {},
   "source": [
    "## Test the model"
   ]
  },
  {
   "cell_type": "code",
   "execution_count": 8,
   "metadata": {
    "ExecuteTime": {
     "end_time": "2024-08-19T15:45:30.047040Z",
     "start_time": "2024-08-19T15:45:30.029773Z"
    },
    "tags": []
   },
   "outputs": [],
   "source": [
    "from sklearn.metrics import confusion_matrix, ConfusionMatrixDisplay\n",
    "import numpy as np\n",
    "import pickle\n",
    "import onnxruntime as rt"
   ]
  },
  {
   "cell_type": "markdown",
   "metadata": {},
   "source": [
    "Load the test data and scaler:"
   ]
  },
  {
   "cell_type": "code",
   "execution_count": 9,
   "metadata": {
    "ExecuteTime": {
     "end_time": "2024-08-19T15:45:30.062713Z",
     "start_time": "2024-08-19T15:45:30.058023Z"
    },
    "tags": []
   },
   "outputs": [],
   "source": [
    "with open('artifact/scaler.pkl', 'rb') as handle:\n",
    "    scaler = pickle.load(handle)\n",
    "with open('artifact/test_data.pkl', 'rb') as handle:\n",
    "    (X_test, y_test) = pickle.load(handle)"
   ]
  },
  {
   "cell_type": "markdown",
   "metadata": {},
   "source": [
    "Create an ONNX inference runtime session and predict values for all test inputs:"
   ]
  },
  {
   "cell_type": "code",
   "execution_count": 10,
   "metadata": {
    "ExecuteTime": {
     "end_time": "2024-08-19T15:45:30.210272Z",
     "start_time": "2024-08-19T15:45:30.073900Z"
    },
    "tags": []
   },
   "outputs": [],
   "source": [
    "sess = rt.InferenceSession(\"models/fraud/1/rafmmodel.onnx\", providers=rt.get_available_providers())\n",
    "input_name = sess.get_inputs()[0].name\n",
    "output_name = sess.get_outputs()[0].name\n",
    "y_pred_temp = sess.run([output_name], {input_name: X_test.astype(np.float32)}) \n",
    "y_pred_temp = np.asarray(np.squeeze(y_pred_temp[0]))\n",
    "threshold = 0.95\n",
    "y_pred = np.where(y_pred_temp > threshold, 1, 0)"
   ]
  },
  {
   "cell_type": "markdown",
   "metadata": {},
   "source": [
    "Show the results:"
   ]
  },
  {
   "cell_type": "code",
   "execution_count": 16,
   "metadata": {
    "ExecuteTime": {
     "end_time": "2024-08-19T15:45:30.644142Z",
     "start_time": "2024-08-19T15:45:30.221686Z"
    },
    "tags": []
   },
   "outputs": [
    {
     "name": "stdout",
     "output_type": "stream",
     "text": [
      "Eval Metrics: \n",
      " Accuracy: 99.3%, Precision: 0.7279, Recall: 0.9657 \n",
      "\n"
     ]
    },
    {
     "data": {
      "text/plain": [
       "<sklearn.metrics._plot.confusion_matrix.ConfusionMatrixDisplay at 0x7fbb243eff10>"
      ]
     },
     "execution_count": 16,
     "metadata": {},
     "output_type": "execute_result"
    },
    {
     "data": {
      "image/png": "[encoded data removed]",
      "text/plain": [
       "<Figure size 640x480 with 2 Axes>"
      ]
     },
     "metadata": {},
     "output_type": "display_data"
    }
   ],
   "source": [
    "from sklearn.metrics import precision_score, recall_score, confusion_matrix, ConfusionMatrixDisplay\n",
    "import numpy as np\n",
    "\n",
    "y_test_arr = y_test.squeeze()\n",
    "correct = np.equal(y_pred, y_test_arr).sum().item()\n",
    "acc = (correct / len(y_pred)) * 100\n",
    "precision = precision_score(y_test_arr, np.round(y_pred))\n",
    "recall = recall_score(y_test_arr, np.round(y_pred))\n",
    "\n",
    "print(f\"Eval Metrics: \\n Accuracy: {acc:>0.1f}%, \"\n",
    "      f\"Precision: {precision:.4f}, Recall: {recall:.4f} \\n\")\n",
    "\n",
    "c_matrix = confusion_matrix(y_test_arr, y_pred)\n",
    "ConfusionMatrixDisplay(c_matrix).plot()"
   ]
  },
  {
   "cell_type": "markdown",
   "metadata": {
    "tags": []
   },
   "source": [
    "## Example: Is below transaction likely to be fraudulent?\n",
    "\n",
    "Here is the order of the fields from Sally's transaction details:\n",
    " Call_Duration 10\n",
    " \n",
    " Data_Usage 300\n",
    " \n",
    " SMS_Count 5\n",
    " \n",
    " Roaming_Indicator 0\n",
    " \n",
    " MobileWallet_Use 1\n",
    " \n",
    " Cost 50\n",
    " \n",
    " Cellular_Location_Distance 3\n",
    " \n",
    " Personal_Pin_Used  20\n",
    " \n",
    " Avg_Call_Duration 12\n",
    " \n",
    " Avg_Data_Usage 350\n",
    " \n",
    " Avg_Cost 0"
   ]
  },
  {
   "cell_type": "code",
   "execution_count": 18,
   "metadata": {
    "ExecuteTime": {
     "end_time": "2024-08-19T15:45:30.679688Z",
     "start_time": "2024-08-19T15:45:30.669086Z"
    },
    "tags": []
   },
   "outputs": [
    {
     "name": "stdout",
     "output_type": "stream",
     "text": [
      "Is transaction predicted to be fraudulent? (true = YES, false = NO) \n",
      "False\n",
      "How likely was this transaction to be fraudulent? \n",
      "0.00003%\n"
     ]
    }
   ],
   "source": [
    "\n",
    "# No-fraud\n",
    "# Call_Duration 10\n",
    "# Data_Usage 300\n",
    "# SMS_Count 5\n",
    "# Roaming_Indicator 0\n",
    "# MobileWallet_Use 1\n",
    "# Cost 50\n",
    "# Cellular_Location_Distance 3\n",
    "# Personal_Pin_Used  20\n",
    "# Avg_Call_Duration 12\n",
    "# Avg_Data_Usage 350\n",
    "# Avg_Cost\n",
    "\n",
    "\n",
    "telco_transaction_details = [\n",
    "    [10,\n",
    "    300,\n",
    "    5,\n",
    "    0,\n",
    "    1,\n",
    "    50,\n",
    "    3,\n",
    "    20,\n",
    "    12,\n",
    "    350,\n",
    "     0\n",
    "     ]\n",
    "    ]\n",
    "prediction = sess.run([output_name], {input_name: scaler.transform(telco_transaction_details).astype(np.float32)})\n",
    "\n",
    "print(\"Is transaction predicted to be fraudulent? (true = YES, false = NO) \")\n",
    "print(np.squeeze(prediction) > threshold)\n",
    "\n",
    "print(\"How likely was this transaction to be fraudulent? \")\n",
    "print(\"{:.5f}\".format(100 * np.squeeze(prediction)) + \"%\")"
   ]
  },
  {
   "cell_type": "markdown",
   "metadata": {},
   "source": [
    "## Example: Is below transaction likely to be fraudulent?\n",
    "\n",
    "Here is the order of the fields from Sally's transaction details:\n",
    " #Fraud#\n",
    " \n",
    " Call_Duration 300\n",
    " \n",
    " Data_Usage 10000\n",
    " \n",
    " SMS_Count 50\n",
    " \n",
    " Roaming_Indicator 1\n",
    " \n",
    " MobileWallet_Use 1\n",
    " \n",
    " Cost 500\n",
    " \n",
    " Cellular_Location_Distance 100\n",
    " \n",
    " Personal_Pin_Used  1\n",
    " \n",
    " Avg_Call_Duration 50\n",
    " \n",
    " Avg_Data_Usage 8000\n",
    " \n",
    " Avg_Cost 0"
   ]
  },
  {
   "cell_type": "code",
   "execution_count": 19,
   "metadata": {},
   "outputs": [
    {
     "name": "stdout",
     "output_type": "stream",
     "text": [
      "Is transaction predicted to be fraudulent? (true = YES, false = NO) \n",
      "True\n",
      "How likely was this transaction to be fraudulent? \n",
      "100.00000%\n"
     ]
    }
   ],
   "source": [
    "telco_transaction_details = [\n",
    "    [300,\n",
    "    10000,\n",
    "    50,\n",
    "    1,\n",
    "    1,\n",
    "    500,\n",
    "    100,\n",
    "    1,\n",
    "    50,\n",
    "    8000,\n",
    "     0\n",
    "          ]\n",
    "    ]\n",
    "\n",
    "prediction = sess.run([output_name], {input_name: scaler.transform(telco_transaction_details).astype(np.float32)})\n",
    "\n",
    "print(\"Is transaction predicted to be fraudulent? (true = YES, false = NO) \")\n",
    "print(np.squeeze(prediction) > threshold)\n",
    "\n",
    "print(\"How likely was this transaction to be fraudulent? \")\n",
    "print(\"{:.5f}\".format(100 * np.squeeze(prediction)) + \"%\")"
   ]
  }
 ],
 "metadata": {
  "kernelspec": {
   "display_name": "Python 3.9",
   "language": "python",
   "name": "python3"
  },
  "language_info": {
   "codemirror_mode": {
    "name": "ipython",
    "version": 3
   },
   "file_extension": ".py",
   "mimetype": "text/x-python",
   "name": "python",
   "nbconvert_exporter": "python",
   "pygments_lexer": "ipython3",
   "version": "3.9.18"
  },
  "vscode": {
   "interpreter": {
    "hash": "63462a1f26ab486248b2a0fd058a0d9f9a6566a80083a3e1eb8f35617f2381b2"
   }
  }
 },
 "nbformat": 4,
 "nbformat_minor": 4
}
